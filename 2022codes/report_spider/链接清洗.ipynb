{
 "cells": [
  {
   "cell_type": "code",
   "execution_count": 3,
   "id": "initial_id",
   "metadata": {
    "collapsed": true,
    "ExecuteTime": {
     "end_time": "2023-10-30T05:45:32.217355800Z",
     "start_time": "2023-10-30T05:45:32.173276200Z"
    }
   },
   "outputs": [
    {
     "data": {
      "text/plain": "         股票代码  截止时间            时间戳  股票简称        素材id  \\\n0      300101  2016  1490198400000  振芯科技  1203186307   \n1      000811  2022  1681315200000  冰轮环境  1216390232   \n2      600183  2020  1617033600000  生益科技  1209477921   \n3      603969  2020  1619539200000  银龙股份  1209844312   \n4      002755  2015  1460649600000  东方新星  1202179753   \n...       ...   ...            ...   ...         ...   \n13232  000820  2021  1651248000000  ST节能  1213265199   \n13233  300363  2015  1456243200000  博腾股份  1201993103   \n13234  002741  2018  1556121600000  光华科技  1206089027   \n13235  603227  2016  1493136000000  雪峰科技  1203387014   \n13236  300054  2020  1617984000000  鼎龙股份  1209666165   \n\n                           年报标题  \\\n0                     2016年年度报告   \n1                     2022年年度报告   \n2                 生益科技2020年年度报告   \n3      天津银龙预应力材料股份有限公司2020年年度报告   \n4                  2015年年度报告更新后   \n...                         ...   \n13232                 2021年年度报告   \n13233                 2015年年度报告   \n13234                 2018年年度报告   \n13235                 2016年年度报告   \n13236                 2020年年度报告   \n\n                                                    下载链接  \n0      http://static.cninfo.com.cn/finalpage/2017-03-...  \n1      http://static.cninfo.com.cn/finalpage/2023-04-...  \n2      http://static.cninfo.com.cn/finalpage/2021-03-...  \n3      http://static.cninfo.com.cn/finalpage/2021-04-...  \n4      http://static.cninfo.com.cn/finalpage/2016-04-...  \n...                                                  ...  \n13232  http://static.cninfo.com.cn/finalpage/2022-04-...  \n13233  http://static.cninfo.com.cn/finalpage/2016-02-...  \n13234  http://static.cninfo.com.cn/finalpage/2019-04-...  \n13235  http://static.cninfo.com.cn/finalpage/2017-04-...  \n13236  http://static.cninfo.com.cn/finalpage/2021-04-...  \n\n[13237 rows x 7 columns]",
      "text/html": "<div>\n<style scoped>\n    .dataframe tbody tr th:only-of-type {\n        vertical-align: middle;\n    }\n\n    .dataframe tbody tr th {\n        vertical-align: top;\n    }\n\n    .dataframe thead th {\n        text-align: right;\n    }\n</style>\n<table border=\"1\" class=\"dataframe\">\n  <thead>\n    <tr style=\"text-align: right;\">\n      <th></th>\n      <th>股票代码</th>\n      <th>截止时间</th>\n      <th>时间戳</th>\n      <th>股票简称</th>\n      <th>素材id</th>\n      <th>年报标题</th>\n      <th>下载链接</th>\n    </tr>\n  </thead>\n  <tbody>\n    <tr>\n      <th>0</th>\n      <td>300101</td>\n      <td>2016</td>\n      <td>1490198400000</td>\n      <td>振芯科技</td>\n      <td>1203186307</td>\n      <td>2016年年度报告</td>\n      <td>http://static.cninfo.com.cn/finalpage/2017-03-...</td>\n    </tr>\n    <tr>\n      <th>1</th>\n      <td>000811</td>\n      <td>2022</td>\n      <td>1681315200000</td>\n      <td>冰轮环境</td>\n      <td>1216390232</td>\n      <td>2022年年度报告</td>\n      <td>http://static.cninfo.com.cn/finalpage/2023-04-...</td>\n    </tr>\n    <tr>\n      <th>2</th>\n      <td>600183</td>\n      <td>2020</td>\n      <td>1617033600000</td>\n      <td>生益科技</td>\n      <td>1209477921</td>\n      <td>生益科技2020年年度报告</td>\n      <td>http://static.cninfo.com.cn/finalpage/2021-03-...</td>\n    </tr>\n    <tr>\n      <th>3</th>\n      <td>603969</td>\n      <td>2020</td>\n      <td>1619539200000</td>\n      <td>银龙股份</td>\n      <td>1209844312</td>\n      <td>天津银龙预应力材料股份有限公司2020年年度报告</td>\n      <td>http://static.cninfo.com.cn/finalpage/2021-04-...</td>\n    </tr>\n    <tr>\n      <th>4</th>\n      <td>002755</td>\n      <td>2015</td>\n      <td>1460649600000</td>\n      <td>东方新星</td>\n      <td>1202179753</td>\n      <td>2015年年度报告更新后</td>\n      <td>http://static.cninfo.com.cn/finalpage/2016-04-...</td>\n    </tr>\n    <tr>\n      <th>...</th>\n      <td>...</td>\n      <td>...</td>\n      <td>...</td>\n      <td>...</td>\n      <td>...</td>\n      <td>...</td>\n      <td>...</td>\n    </tr>\n    <tr>\n      <th>13232</th>\n      <td>000820</td>\n      <td>2021</td>\n      <td>1651248000000</td>\n      <td>ST节能</td>\n      <td>1213265199</td>\n      <td>2021年年度报告</td>\n      <td>http://static.cninfo.com.cn/finalpage/2022-04-...</td>\n    </tr>\n    <tr>\n      <th>13233</th>\n      <td>300363</td>\n      <td>2015</td>\n      <td>1456243200000</td>\n      <td>博腾股份</td>\n      <td>1201993103</td>\n      <td>2015年年度报告</td>\n      <td>http://static.cninfo.com.cn/finalpage/2016-02-...</td>\n    </tr>\n    <tr>\n      <th>13234</th>\n      <td>002741</td>\n      <td>2018</td>\n      <td>1556121600000</td>\n      <td>光华科技</td>\n      <td>1206089027</td>\n      <td>2018年年度报告</td>\n      <td>http://static.cninfo.com.cn/finalpage/2019-04-...</td>\n    </tr>\n    <tr>\n      <th>13235</th>\n      <td>603227</td>\n      <td>2016</td>\n      <td>1493136000000</td>\n      <td>雪峰科技</td>\n      <td>1203387014</td>\n      <td>2016年年度报告</td>\n      <td>http://static.cninfo.com.cn/finalpage/2017-04-...</td>\n    </tr>\n    <tr>\n      <th>13236</th>\n      <td>300054</td>\n      <td>2020</td>\n      <td>1617984000000</td>\n      <td>鼎龙股份</td>\n      <td>1209666165</td>\n      <td>2020年年度报告</td>\n      <td>http://static.cninfo.com.cn/finalpage/2021-04-...</td>\n    </tr>\n  </tbody>\n</table>\n<p>13237 rows × 7 columns</p>\n</div>"
     },
     "execution_count": 3,
     "metadata": {},
     "output_type": "execute_result"
    }
   ],
   "source": [
    "import re\n",
    "import pandas as pd\n",
    "pd.options.io.excel.xlsx.writer = 'xlsxwriter'\n",
    "\n",
    "\n",
    "def extrac_year(name):\n",
    "    publish = int(name.split('-')[1])\n",
    "    title = name.split('-')[0]\n",
    "    try:\n",
    "        year = re.search(r'20\\d{2}', title).group(0)\n",
    "    except:\n",
    "        year = publish-1\n",
    "    return year\n",
    "\n",
    "\n",
    "path = r\".\\data\\年报链接(未处理).txt\"\n",
    "dataset_ = pd.read_csv(path,index_col=None, header=None, names=['股票代码','截止时间','时间戳','股票简称','素材id','年报标题','下载链接'],dtype={'股票代码':'object'})\n",
    "dataset_.drop_duplicates(subset=['下载链接', '素材id', '股票代码'],inplace=True)\n",
    "dataset_\n"
   ]
  },
  {
   "cell_type": "code",
   "execution_count": 4,
   "outputs": [
    {
     "data": {
      "text/plain": "         股票代码  股票简称  年报年份          年报标题           时间戳  \\\n0      000008  神州高铁  2015     2015年年度报告  1.461686e+09   \n1      000008  神州高铁  2016     2016年年度报告  1.490976e+09   \n2      000008  神州高铁  2017     2017年年度报告  1.524672e+09   \n3      000008  神州高铁  2018     2018年年度报告  1.556122e+09   \n4      000008  神州高铁  2019     2019年年度报告  1.587658e+09   \n...       ...   ...   ...           ...           ...   \n13232  872541  铁大科技  2022     2022年年度报告  1.682438e+09   \n13233  872808  曙光数创  2022     2022年年度报告  1.681661e+09   \n13234  873001  纬达光电  2022     2022年年度报告  1.679587e+09   \n13235  873223  荣亿精密  2022     2022年年度报告  1.682438e+09   \n13236  873223  荣亿精密  2022  2022年年度报告更正后  1.689091e+09   \n\n                                                    下载链接  \n0      http://static.cninfo.com.cn/finalpage/2016-04-...  \n1      http://static.cninfo.com.cn/finalpage/2017-04-...  \n2      http://static.cninfo.com.cn/finalpage/2018-04-...  \n3      http://static.cninfo.com.cn/finalpage/2019-04-...  \n4      http://static.cninfo.com.cn/finalpage/2020-04-...  \n...                                                  ...  \n13232  http://static.cninfo.com.cn/finalpage/2023-04-...  \n13233  http://static.cninfo.com.cn/finalpage/2023-04-...  \n13234  http://static.cninfo.com.cn/finalpage/2023-03-...  \n13235  http://static.cninfo.com.cn/finalpage/2023-04-...  \n13236  http://static.cninfo.com.cn/finalpage/2023-07-...  \n\n[13237 rows x 6 columns]",
      "text/html": "<div>\n<style scoped>\n    .dataframe tbody tr th:only-of-type {\n        vertical-align: middle;\n    }\n\n    .dataframe tbody tr th {\n        vertical-align: top;\n    }\n\n    .dataframe thead th {\n        text-align: right;\n    }\n</style>\n<table border=\"1\" class=\"dataframe\">\n  <thead>\n    <tr style=\"text-align: right;\">\n      <th></th>\n      <th>股票代码</th>\n      <th>股票简称</th>\n      <th>年报年份</th>\n      <th>年报标题</th>\n      <th>时间戳</th>\n      <th>下载链接</th>\n    </tr>\n  </thead>\n  <tbody>\n    <tr>\n      <th>0</th>\n      <td>000008</td>\n      <td>神州高铁</td>\n      <td>2015</td>\n      <td>2015年年度报告</td>\n      <td>1.461686e+09</td>\n      <td>http://static.cninfo.com.cn/finalpage/2016-04-...</td>\n    </tr>\n    <tr>\n      <th>1</th>\n      <td>000008</td>\n      <td>神州高铁</td>\n      <td>2016</td>\n      <td>2016年年度报告</td>\n      <td>1.490976e+09</td>\n      <td>http://static.cninfo.com.cn/finalpage/2017-04-...</td>\n    </tr>\n    <tr>\n      <th>2</th>\n      <td>000008</td>\n      <td>神州高铁</td>\n      <td>2017</td>\n      <td>2017年年度报告</td>\n      <td>1.524672e+09</td>\n      <td>http://static.cninfo.com.cn/finalpage/2018-04-...</td>\n    </tr>\n    <tr>\n      <th>3</th>\n      <td>000008</td>\n      <td>神州高铁</td>\n      <td>2018</td>\n      <td>2018年年度报告</td>\n      <td>1.556122e+09</td>\n      <td>http://static.cninfo.com.cn/finalpage/2019-04-...</td>\n    </tr>\n    <tr>\n      <th>4</th>\n      <td>000008</td>\n      <td>神州高铁</td>\n      <td>2019</td>\n      <td>2019年年度报告</td>\n      <td>1.587658e+09</td>\n      <td>http://static.cninfo.com.cn/finalpage/2020-04-...</td>\n    </tr>\n    <tr>\n      <th>...</th>\n      <td>...</td>\n      <td>...</td>\n      <td>...</td>\n      <td>...</td>\n      <td>...</td>\n      <td>...</td>\n    </tr>\n    <tr>\n      <th>13232</th>\n      <td>872541</td>\n      <td>铁大科技</td>\n      <td>2022</td>\n      <td>2022年年度报告</td>\n      <td>1.682438e+09</td>\n      <td>http://static.cninfo.com.cn/finalpage/2023-04-...</td>\n    </tr>\n    <tr>\n      <th>13233</th>\n      <td>872808</td>\n      <td>曙光数创</td>\n      <td>2022</td>\n      <td>2022年年度报告</td>\n      <td>1.681661e+09</td>\n      <td>http://static.cninfo.com.cn/finalpage/2023-04-...</td>\n    </tr>\n    <tr>\n      <th>13234</th>\n      <td>873001</td>\n      <td>纬达光电</td>\n      <td>2022</td>\n      <td>2022年年度报告</td>\n      <td>1.679587e+09</td>\n      <td>http://static.cninfo.com.cn/finalpage/2023-03-...</td>\n    </tr>\n    <tr>\n      <th>13235</th>\n      <td>873223</td>\n      <td>荣亿精密</td>\n      <td>2022</td>\n      <td>2022年年度报告</td>\n      <td>1.682438e+09</td>\n      <td>http://static.cninfo.com.cn/finalpage/2023-04-...</td>\n    </tr>\n    <tr>\n      <th>13236</th>\n      <td>873223</td>\n      <td>荣亿精密</td>\n      <td>2022</td>\n      <td>2022年年度报告更正后</td>\n      <td>1.689091e+09</td>\n      <td>http://static.cninfo.com.cn/finalpage/2023-07-...</td>\n    </tr>\n  </tbody>\n</table>\n<p>13237 rows × 6 columns</p>\n</div>"
     },
     "execution_count": 4,
     "metadata": {},
     "output_type": "execute_result"
    }
   ],
   "source": [
    "dataset_['公布年份'] = dataset_['下载链接'].apply(lambda x:x.split('/')[4][:4])\n",
    "dataset_['年报标题2'] = dataset_['年报标题'] + '-' + dataset_['公布年份']\n",
    "dataset_['年报年份'] = dataset_['年报标题2'].apply(lambda x: extrac_year(x))\n",
    "dataset_['时间戳'] = dataset_['时间戳'].apply(lambda x:int(x)/1e3)\n",
    "dataset_.sort_values(['股票代码','年报年份'],inplace=True)\n",
    "dataset_.reset_index(level=0, inplace=True)\n",
    "dataset_.drop(['index', '年报标题2','公布年份','素材id'], axis=1, inplace=True)\n",
    "dataset_['截止时间'] = dataset_['截止时间'].astype('int')\n",
    "dataset_['年报年份'] = dataset_['年报年份'].astype('int')\n",
    "dataset_ = dataset_[['股票代码', '股票简称', '年报年份', '年报标题', '时间戳', '下载链接']]\n",
    "dataset_"
   ],
   "metadata": {
    "collapsed": false,
    "ExecuteTime": {
     "end_time": "2023-10-30T05:45:36.343175400Z",
     "start_time": "2023-10-30T05:45:36.277867Z"
    }
   },
   "id": "d62f0c2f45ed38dc"
  },
  {
   "cell_type": "code",
   "execution_count": 5,
   "outputs": [
    {
     "data": {
      "text/plain": "         股票代码  股票简称  年报年份           年报标题           时间戳  \\\n12513  688126  沪硅产业  2019      2019年年度报告  1.588003e+09   \n12514  688126  沪硅产业  2020  沪硅产业2020年年度报告  1.619539e+09   \n12515  688126  沪硅产业  2021  沪硅产业2021年年度报告  1.649779e+09   \n12516  688126  沪硅产业  2022  沪硅产业2022年年度报告  1.681142e+09   \n\n                                                    下载链接  \n12513  http://static.cninfo.com.cn/finalpage/2020-04-...  \n12514  http://static.cninfo.com.cn/finalpage/2021-04-...  \n12515  http://static.cninfo.com.cn/finalpage/2022-04-...  \n12516  http://static.cninfo.com.cn/finalpage/2023-04-...  ",
      "text/html": "<div>\n<style scoped>\n    .dataframe tbody tr th:only-of-type {\n        vertical-align: middle;\n    }\n\n    .dataframe tbody tr th {\n        vertical-align: top;\n    }\n\n    .dataframe thead th {\n        text-align: right;\n    }\n</style>\n<table border=\"1\" class=\"dataframe\">\n  <thead>\n    <tr style=\"text-align: right;\">\n      <th></th>\n      <th>股票代码</th>\n      <th>股票简称</th>\n      <th>年报年份</th>\n      <th>年报标题</th>\n      <th>时间戳</th>\n      <th>下载链接</th>\n    </tr>\n  </thead>\n  <tbody>\n    <tr>\n      <th>12513</th>\n      <td>688126</td>\n      <td>沪硅产业</td>\n      <td>2019</td>\n      <td>2019年年度报告</td>\n      <td>1.588003e+09</td>\n      <td>http://static.cninfo.com.cn/finalpage/2020-04-...</td>\n    </tr>\n    <tr>\n      <th>12514</th>\n      <td>688126</td>\n      <td>沪硅产业</td>\n      <td>2020</td>\n      <td>沪硅产业2020年年度报告</td>\n      <td>1.619539e+09</td>\n      <td>http://static.cninfo.com.cn/finalpage/2021-04-...</td>\n    </tr>\n    <tr>\n      <th>12515</th>\n      <td>688126</td>\n      <td>沪硅产业</td>\n      <td>2021</td>\n      <td>沪硅产业2021年年度报告</td>\n      <td>1.649779e+09</td>\n      <td>http://static.cninfo.com.cn/finalpage/2022-04-...</td>\n    </tr>\n    <tr>\n      <th>12516</th>\n      <td>688126</td>\n      <td>沪硅产业</td>\n      <td>2022</td>\n      <td>沪硅产业2022年年度报告</td>\n      <td>1.681142e+09</td>\n      <td>http://static.cninfo.com.cn/finalpage/2023-04-...</td>\n    </tr>\n  </tbody>\n</table>\n</div>"
     },
     "execution_count": 5,
     "metadata": {},
     "output_type": "execute_result"
    }
   ],
   "source": [
    "dataset_[dataset_['股票代码']=='688126']"
   ],
   "metadata": {
    "collapsed": false,
    "ExecuteTime": {
     "end_time": "2023-10-30T05:45:59.546445Z",
     "start_time": "2023-10-30T05:45:59.538024Z"
    }
   },
   "id": "f2698364b97fa0c6"
  },
  {
   "cell_type": "code",
   "execution_count": 6,
   "outputs": [
    {
     "data": {
      "text/plain": "         股票代码  股票简称  年报年份          年报标题           时间戳  \\\n0      000008  神州高铁  2015     2015年年度报告  1.461686e+09   \n1      000008  神州高铁  2016     2016年年度报告  1.490976e+09   \n2      000008  神州高铁  2017     2017年年度报告  1.524672e+09   \n3      000008  神州高铁  2018     2018年年度报告  1.556122e+09   \n4      000008  神州高铁  2019     2019年年度报告  1.587658e+09   \n...       ...   ...   ...           ...           ...   \n13232  872541  铁大科技  2022     2022年年度报告  1.682438e+09   \n13233  872808  曙光数创  2022     2022年年度报告  1.681661e+09   \n13234  873001  纬达光电  2022     2022年年度报告  1.679587e+09   \n13235  873223  荣亿精密  2022     2022年年度报告  1.682438e+09   \n13236  873223  荣亿精密  2022  2022年年度报告更正后  1.689091e+09   \n\n                                                    下载链接  \n0      http://static.cninfo.com.cn/finalpage/2016-04-...  \n1      http://static.cninfo.com.cn/finalpage/2017-04-...  \n2      http://static.cninfo.com.cn/finalpage/2018-04-...  \n3      http://static.cninfo.com.cn/finalpage/2019-04-...  \n4      http://static.cninfo.com.cn/finalpage/2020-04-...  \n...                                                  ...  \n13232  http://static.cninfo.com.cn/finalpage/2023-04-...  \n13233  http://static.cninfo.com.cn/finalpage/2023-04-...  \n13234  http://static.cninfo.com.cn/finalpage/2023-03-...  \n13235  http://static.cninfo.com.cn/finalpage/2023-04-...  \n13236  http://static.cninfo.com.cn/finalpage/2023-07-...  \n\n[13234 rows x 6 columns]",
      "text/html": "<div>\n<style scoped>\n    .dataframe tbody tr th:only-of-type {\n        vertical-align: middle;\n    }\n\n    .dataframe tbody tr th {\n        vertical-align: top;\n    }\n\n    .dataframe thead th {\n        text-align: right;\n    }\n</style>\n<table border=\"1\" class=\"dataframe\">\n  <thead>\n    <tr style=\"text-align: right;\">\n      <th></th>\n      <th>股票代码</th>\n      <th>股票简称</th>\n      <th>年报年份</th>\n      <th>年报标题</th>\n      <th>时间戳</th>\n      <th>下载链接</th>\n    </tr>\n  </thead>\n  <tbody>\n    <tr>\n      <th>0</th>\n      <td>000008</td>\n      <td>神州高铁</td>\n      <td>2015</td>\n      <td>2015年年度报告</td>\n      <td>1.461686e+09</td>\n      <td>http://static.cninfo.com.cn/finalpage/2016-04-...</td>\n    </tr>\n    <tr>\n      <th>1</th>\n      <td>000008</td>\n      <td>神州高铁</td>\n      <td>2016</td>\n      <td>2016年年度报告</td>\n      <td>1.490976e+09</td>\n      <td>http://static.cninfo.com.cn/finalpage/2017-04-...</td>\n    </tr>\n    <tr>\n      <th>2</th>\n      <td>000008</td>\n      <td>神州高铁</td>\n      <td>2017</td>\n      <td>2017年年度报告</td>\n      <td>1.524672e+09</td>\n      <td>http://static.cninfo.com.cn/finalpage/2018-04-...</td>\n    </tr>\n    <tr>\n      <th>3</th>\n      <td>000008</td>\n      <td>神州高铁</td>\n      <td>2018</td>\n      <td>2018年年度报告</td>\n      <td>1.556122e+09</td>\n      <td>http://static.cninfo.com.cn/finalpage/2019-04-...</td>\n    </tr>\n    <tr>\n      <th>4</th>\n      <td>000008</td>\n      <td>神州高铁</td>\n      <td>2019</td>\n      <td>2019年年度报告</td>\n      <td>1.587658e+09</td>\n      <td>http://static.cninfo.com.cn/finalpage/2020-04-...</td>\n    </tr>\n    <tr>\n      <th>...</th>\n      <td>...</td>\n      <td>...</td>\n      <td>...</td>\n      <td>...</td>\n      <td>...</td>\n      <td>...</td>\n    </tr>\n    <tr>\n      <th>13232</th>\n      <td>872541</td>\n      <td>铁大科技</td>\n      <td>2022</td>\n      <td>2022年年度报告</td>\n      <td>1.682438e+09</td>\n      <td>http://static.cninfo.com.cn/finalpage/2023-04-...</td>\n    </tr>\n    <tr>\n      <th>13233</th>\n      <td>872808</td>\n      <td>曙光数创</td>\n      <td>2022</td>\n      <td>2022年年度报告</td>\n      <td>1.681661e+09</td>\n      <td>http://static.cninfo.com.cn/finalpage/2023-04-...</td>\n    </tr>\n    <tr>\n      <th>13234</th>\n      <td>873001</td>\n      <td>纬达光电</td>\n      <td>2022</td>\n      <td>2022年年度报告</td>\n      <td>1.679587e+09</td>\n      <td>http://static.cninfo.com.cn/finalpage/2023-03-...</td>\n    </tr>\n    <tr>\n      <th>13235</th>\n      <td>873223</td>\n      <td>荣亿精密</td>\n      <td>2022</td>\n      <td>2022年年度报告</td>\n      <td>1.682438e+09</td>\n      <td>http://static.cninfo.com.cn/finalpage/2023-04-...</td>\n    </tr>\n    <tr>\n      <th>13236</th>\n      <td>873223</td>\n      <td>荣亿精密</td>\n      <td>2022</td>\n      <td>2022年年度报告更正后</td>\n      <td>1.689091e+09</td>\n      <td>http://static.cninfo.com.cn/finalpage/2023-07-...</td>\n    </tr>\n  </tbody>\n</table>\n<p>13234 rows × 6 columns</p>\n</div>"
     },
     "execution_count": 6,
     "metadata": {},
     "output_type": "execute_result"
    }
   ],
   "source": [
    "# 拿到所有链接，初步筛选去除标题名称不符合要求的所有数据\n",
    "delitems = dataset_[(~dataset_['年报标题'].str.contains('年度报'))&(~dataset_['年报标题'].str.contains('年报'))][['年报标题']].index.tolist()\n",
    "dataset = dataset_.drop(list(delitems))\n",
    "dataset"
   ],
   "metadata": {
    "collapsed": false,
    "ExecuteTime": {
     "end_time": "2023-10-30T05:46:19.732202900Z",
     "start_time": "2023-10-30T05:46:19.700510100Z"
    }
   },
   "id": "87374bc5ae4f7c65"
  },
  {
   "cell_type": "code",
   "execution_count": 7,
   "outputs": [
    {
     "name": "stderr",
     "output_type": "stream",
     "text": [
      "C:\\Users\\shelhen1\\AppData\\Local\\Temp\\ipykernel_9692\\475884067.py:19: FutureWarning: Series.__getitem__ treating keys as positions is deprecated. In a future version, integer keys will always be treated as labels (consistent with DataFrame behavior). To access a value by position, use `ser.iloc[pos]`\n",
      "  if year == row[2]:\n",
      "C:\\Users\\shelhen1\\AppData\\Local\\Temp\\ipykernel_9692\\475884067.py:20: FutureWarning: Series.__getitem__ treating keys as positions is deprecated. In a future version, integer keys will always be treated as labels (consistent with DataFrame behavior). To access a value by position, use `ser.iloc[pos]`\n",
      "  content=f\"{int(row[4])}:{row.name}\"\n"
     ]
    },
    {
     "data": {
      "text/plain": "         股票代码  股票简称  年报年份          年报标题           时间戳  \\\n0      000008  神州高铁  2015     2015年年度报告  1.461686e+09   \n1      000008  神州高铁  2016     2016年年度报告  1.490976e+09   \n2      000008  神州高铁  2017     2017年年度报告  1.524672e+09   \n3      000008  神州高铁  2018     2018年年度报告  1.556122e+09   \n4      000008  神州高铁  2019     2019年年度报告  1.587658e+09   \n...       ...   ...   ...           ...           ...   \n13231  872392  佳合科技  2022     2022年年度报告  1.682525e+09   \n13232  872541  铁大科技  2022     2022年年度报告  1.682438e+09   \n13233  872808  曙光数创  2022     2022年年度报告  1.681661e+09   \n13234  873001  纬达光电  2022     2022年年度报告  1.679587e+09   \n13236  873223  荣亿精密  2022  2022年年度报告更正后  1.689091e+09   \n\n                                                    下载链接  \n0      http://static.cninfo.com.cn/finalpage/2016-04-...  \n1      http://static.cninfo.com.cn/finalpage/2017-04-...  \n2      http://static.cninfo.com.cn/finalpage/2018-04-...  \n3      http://static.cninfo.com.cn/finalpage/2019-04-...  \n4      http://static.cninfo.com.cn/finalpage/2020-04-...  \n...                                                  ...  \n13231  http://static.cninfo.com.cn/finalpage/2023-04-...  \n13232  http://static.cninfo.com.cn/finalpage/2023-04-...  \n13233  http://static.cninfo.com.cn/finalpage/2023-04-...  \n13234  http://static.cninfo.com.cn/finalpage/2023-03-...  \n13236  http://static.cninfo.com.cn/finalpage/2023-07-...  \n\n[12425 rows x 6 columns]",
      "text/html": "<div>\n<style scoped>\n    .dataframe tbody tr th:only-of-type {\n        vertical-align: middle;\n    }\n\n    .dataframe tbody tr th {\n        vertical-align: top;\n    }\n\n    .dataframe thead th {\n        text-align: right;\n    }\n</style>\n<table border=\"1\" class=\"dataframe\">\n  <thead>\n    <tr style=\"text-align: right;\">\n      <th></th>\n      <th>股票代码</th>\n      <th>股票简称</th>\n      <th>年报年份</th>\n      <th>年报标题</th>\n      <th>时间戳</th>\n      <th>下载链接</th>\n    </tr>\n  </thead>\n  <tbody>\n    <tr>\n      <th>0</th>\n      <td>000008</td>\n      <td>神州高铁</td>\n      <td>2015</td>\n      <td>2015年年度报告</td>\n      <td>1.461686e+09</td>\n      <td>http://static.cninfo.com.cn/finalpage/2016-04-...</td>\n    </tr>\n    <tr>\n      <th>1</th>\n      <td>000008</td>\n      <td>神州高铁</td>\n      <td>2016</td>\n      <td>2016年年度报告</td>\n      <td>1.490976e+09</td>\n      <td>http://static.cninfo.com.cn/finalpage/2017-04-...</td>\n    </tr>\n    <tr>\n      <th>2</th>\n      <td>000008</td>\n      <td>神州高铁</td>\n      <td>2017</td>\n      <td>2017年年度报告</td>\n      <td>1.524672e+09</td>\n      <td>http://static.cninfo.com.cn/finalpage/2018-04-...</td>\n    </tr>\n    <tr>\n      <th>3</th>\n      <td>000008</td>\n      <td>神州高铁</td>\n      <td>2018</td>\n      <td>2018年年度报告</td>\n      <td>1.556122e+09</td>\n      <td>http://static.cninfo.com.cn/finalpage/2019-04-...</td>\n    </tr>\n    <tr>\n      <th>4</th>\n      <td>000008</td>\n      <td>神州高铁</td>\n      <td>2019</td>\n      <td>2019年年度报告</td>\n      <td>1.587658e+09</td>\n      <td>http://static.cninfo.com.cn/finalpage/2020-04-...</td>\n    </tr>\n    <tr>\n      <th>...</th>\n      <td>...</td>\n      <td>...</td>\n      <td>...</td>\n      <td>...</td>\n      <td>...</td>\n      <td>...</td>\n    </tr>\n    <tr>\n      <th>13231</th>\n      <td>872392</td>\n      <td>佳合科技</td>\n      <td>2022</td>\n      <td>2022年年度报告</td>\n      <td>1.682525e+09</td>\n      <td>http://static.cninfo.com.cn/finalpage/2023-04-...</td>\n    </tr>\n    <tr>\n      <th>13232</th>\n      <td>872541</td>\n      <td>铁大科技</td>\n      <td>2022</td>\n      <td>2022年年度报告</td>\n      <td>1.682438e+09</td>\n      <td>http://static.cninfo.com.cn/finalpage/2023-04-...</td>\n    </tr>\n    <tr>\n      <th>13233</th>\n      <td>872808</td>\n      <td>曙光数创</td>\n      <td>2022</td>\n      <td>2022年年度报告</td>\n      <td>1.681661e+09</td>\n      <td>http://static.cninfo.com.cn/finalpage/2023-04-...</td>\n    </tr>\n    <tr>\n      <th>13234</th>\n      <td>873001</td>\n      <td>纬达光电</td>\n      <td>2022</td>\n      <td>2022年年度报告</td>\n      <td>1.679587e+09</td>\n      <td>http://static.cninfo.com.cn/finalpage/2023-03-...</td>\n    </tr>\n    <tr>\n      <th>13236</th>\n      <td>873223</td>\n      <td>荣亿精密</td>\n      <td>2022</td>\n      <td>2022年年度报告更正后</td>\n      <td>1.689091e+09</td>\n      <td>http://static.cninfo.com.cn/finalpage/2023-07-...</td>\n    </tr>\n  </tbody>\n</table>\n<p>12425 rows × 6 columns</p>\n</div>"
     },
     "execution_count": 7,
     "metadata": {},
     "output_type": "execute_result"
    }
   ],
   "source": [
    "# 删除各年内地修订数据\n",
    "secids=set(dataset['股票代码'].tolist())\n",
    "result=[]\n",
    "def delfun(items):\n",
    "    result_=[]\n",
    "    while len(items) >1:\n",
    "        res_ = {item.split(':')[1]:item.split(':')[0] for item in items}\n",
    "        name_ = min(res_, key=res_.get)\n",
    "        result_.append(int(name_))\n",
    "        items.remove(f\"{res_[name_]}:{name_}\")\n",
    "    return result_\n",
    "\n",
    "for secid in secids:\n",
    "    _dataset = dataset[dataset['股票代码']==secid]\n",
    "    years = set(_dataset['年报年份'].tolist())\n",
    "    for year in years:\n",
    "        res=[]\n",
    "        for idx,row in _dataset.iterrows():\n",
    "            if year == row[2]:\n",
    "                content=f\"{int(row[4])}:{row.name}\"\n",
    "                res.append(content)\n",
    "        if len(res)>1:\n",
    "            result.extend(delfun(res))\n",
    "\n",
    "dataset.drop(list(result),inplace=True)  # sorted(delitems)\n",
    "dataset"
   ],
   "metadata": {
    "collapsed": false,
    "ExecuteTime": {
     "end_time": "2023-10-30T05:46:35.823208900Z",
     "start_time": "2023-10-30T05:46:31.895864500Z"
    }
   },
   "id": "869510af68fa7b71"
  },
  {
   "cell_type": "code",
   "execution_count": 8,
   "outputs": [
    {
     "data": {
      "text/plain": "         股票代码  股票简称  年报年份           年报标题           时间戳  \\\n12513  688126  沪硅产业  2019      2019年年度报告  1.588003e+09   \n12514  688126  沪硅产业  2020  沪硅产业2020年年度报告  1.619539e+09   \n12515  688126  沪硅产业  2021  沪硅产业2021年年度报告  1.649779e+09   \n12516  688126  沪硅产业  2022  沪硅产业2022年年度报告  1.681142e+09   \n\n                                                    下载链接  \n12513  http://static.cninfo.com.cn/finalpage/2020-04-...  \n12514  http://static.cninfo.com.cn/finalpage/2021-04-...  \n12515  http://static.cninfo.com.cn/finalpage/2022-04-...  \n12516  http://static.cninfo.com.cn/finalpage/2023-04-...  ",
      "text/html": "<div>\n<style scoped>\n    .dataframe tbody tr th:only-of-type {\n        vertical-align: middle;\n    }\n\n    .dataframe tbody tr th {\n        vertical-align: top;\n    }\n\n    .dataframe thead th {\n        text-align: right;\n    }\n</style>\n<table border=\"1\" class=\"dataframe\">\n  <thead>\n    <tr style=\"text-align: right;\">\n      <th></th>\n      <th>股票代码</th>\n      <th>股票简称</th>\n      <th>年报年份</th>\n      <th>年报标题</th>\n      <th>时间戳</th>\n      <th>下载链接</th>\n    </tr>\n  </thead>\n  <tbody>\n    <tr>\n      <th>12513</th>\n      <td>688126</td>\n      <td>沪硅产业</td>\n      <td>2019</td>\n      <td>2019年年度报告</td>\n      <td>1.588003e+09</td>\n      <td>http://static.cninfo.com.cn/finalpage/2020-04-...</td>\n    </tr>\n    <tr>\n      <th>12514</th>\n      <td>688126</td>\n      <td>沪硅产业</td>\n      <td>2020</td>\n      <td>沪硅产业2020年年度报告</td>\n      <td>1.619539e+09</td>\n      <td>http://static.cninfo.com.cn/finalpage/2021-04-...</td>\n    </tr>\n    <tr>\n      <th>12515</th>\n      <td>688126</td>\n      <td>沪硅产业</td>\n      <td>2021</td>\n      <td>沪硅产业2021年年度报告</td>\n      <td>1.649779e+09</td>\n      <td>http://static.cninfo.com.cn/finalpage/2022-04-...</td>\n    </tr>\n    <tr>\n      <th>12516</th>\n      <td>688126</td>\n      <td>沪硅产业</td>\n      <td>2022</td>\n      <td>沪硅产业2022年年度报告</td>\n      <td>1.681142e+09</td>\n      <td>http://static.cninfo.com.cn/finalpage/2023-04-...</td>\n    </tr>\n  </tbody>\n</table>\n</div>"
     },
     "execution_count": 8,
     "metadata": {},
     "output_type": "execute_result"
    }
   ],
   "source": [
    "dataset_[dataset_['股票代码']=='688126']"
   ],
   "metadata": {
    "collapsed": false,
    "ExecuteTime": {
     "end_time": "2023-10-30T05:46:51.243954500Z",
     "start_time": "2023-10-30T05:46:51.236663400Z"
    }
   },
   "id": "5df5f75b49c30dca"
  },
  {
   "cell_type": "code",
   "execution_count": 5,
   "outputs": [],
   "source": [
    "# 再次去除重复\n",
    "dataset_.drop_duplicates(subset=['股票代码','年报年份'])\n",
    "# 组装为目标格式\n",
    "dataset['年报年份'] = dataset['年报年份'].astype('str')\n",
    "dataset['title'] = dataset['股票代码'] + '-' + dataset['年报年份'] + '-' + dataset['股票简称'] + '-' +'年度报告.pdf'\n",
    "result = dataset[['title','下载链接']]"
   ],
   "metadata": {
    "collapsed": false,
    "ExecuteTime": {
     "end_time": "2023-10-26T12:06:43.423412500Z",
     "start_time": "2023-10-26T12:06:43.403903900Z"
    }
   },
   "id": "919b6c9f7ab8e1b9"
  },
  {
   "cell_type": "code",
   "execution_count": 6,
   "outputs": [],
   "source": [
    "result.to_csv(r'.\\data\\下载链接(清洗后).txt', header=None, index=None)"
   ],
   "metadata": {
    "collapsed": false,
    "ExecuteTime": {
     "end_time": "2023-10-26T12:07:02.432756500Z",
     "start_time": "2023-10-26T12:07:02.409550300Z"
    }
   },
   "id": "96884622937f0924"
  }
 ],
 "metadata": {
  "kernelspec": {
   "display_name": "Python 3",
   "language": "python",
   "name": "python3"
  },
  "language_info": {
   "codemirror_mode": {
    "name": "ipython",
    "version": 2
   },
   "file_extension": ".py",
   "mimetype": "text/x-python",
   "name": "python",
   "nbconvert_exporter": "python",
   "pygments_lexer": "ipython2",
   "version": "2.7.6"
  }
 },
 "nbformat": 4,
 "nbformat_minor": 5
}
